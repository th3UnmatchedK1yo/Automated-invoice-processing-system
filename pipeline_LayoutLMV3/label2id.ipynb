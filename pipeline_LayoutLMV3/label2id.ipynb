{
 "cells": [
  {
   "cell_type": "markdown",
   "id": "cd7b5840",
   "metadata": {},
   "source": [
    "# nhớ làm cho cả intersect và union"
   ]
  },
  {
   "cell_type": "markdown",
   "id": "0eb90064",
   "metadata": {},
   "source": [
    "## union"
   ]
  },
  {
   "cell_type": "code",
   "execution_count": 7,
   "id": "f52063a3",
   "metadata": {},
   "outputs": [
    {
     "name": "stdout",
     "output_type": "stream",
     "text": [
      "✅ Đã tạo label2id.json và id2label.json tại /mnt/c/Users/Legion/Documents/jimmy tran/Automated-invoice-processing-system/pipeline_LayoutLMV3/label2id_Union\n"
     ]
    }
   ],
   "source": [
    "import json\n",
    "import os\n",
    "from collections import Counter\n",
    "\n",
    "def generate_label2id(jsonl_path, output_path=\"/mnt/c/Users/Legion/Documents/jimmy tran/Automated-invoice-processing-system/pipeline_LayoutLMV3/label2id_Union\"):\n",
    "    label_set = Counter()\n",
    "    with open(jsonl_path, \"r\", encoding=\"utf-8\") as f:\n",
    "        for line in f:\n",
    "            item = json.loads(line)\n",
    "            for label in item[\"labels\"]:\n",
    "                label_set[label] += 1\n",
    "\n",
    "    labels = sorted(label_set.keys())\n",
    "    label2id = {label: idx for idx, label in enumerate(labels)}\n",
    "    id2label = {idx: label for label, idx in label2id.items()}\n",
    "\n",
    "    # Tạo thư mục nếu chưa tồn tại\n",
    "    os.makedirs(output_path, exist_ok=True)\n",
    "\n",
    "    # Ghi các file JSON vào thư mục chỉ định\n",
    "    with open(os.path.join(output_path, \"label2id.json\"), \"w\", encoding=\"utf-8\") as f:\n",
    "        json.dump(label2id, f, ensure_ascii=False, indent=2)\n",
    "\n",
    "    with open(os.path.join(output_path, \"id2label.json\"), \"w\", encoding=\"utf-8\") as f:\n",
    "        json.dump(id2label, f, ensure_ascii=False, indent=2)\n",
    "\n",
    "    print(f\"✅ Đã tạo label2id.json và id2label.json tại {output_path}\")\n",
    "\n",
    "# 👉 Gọi hàm\n",
    "generate_label2id(\n",
    "    \"/mnt/c/Users/Legion/Documents/jimmy tran/Automated-invoice-processing-system/BIO-TAGGING SCRIPTS/layoutlmv3_union.jsonl\"\n",
    ")\n"
   ]
  },
  {
   "cell_type": "markdown",
   "id": "68fe2df6",
   "metadata": {},
   "source": [
    "## intersect"
   ]
  },
  {
   "cell_type": "code",
   "execution_count": 8,
   "id": "1419b7f0",
   "metadata": {},
   "outputs": [
    {
     "name": "stdout",
     "output_type": "stream",
     "text": [
      "✅ Đã tạo label2id.json và id2label.json tại /mnt/c/Users/Legion/Documents/jimmy tran/Automated-invoice-processing-system/pipeline_LayoutLMV3/label2id_Intersect\n"
     ]
    }
   ],
   "source": [
    "import json\n",
    "import os\n",
    "from collections import Counter\n",
    "\n",
    "def generate_label2id(jsonl_path, output_path=\"/mnt/c/Users/Legion/Documents/jimmy tran/Automated-invoice-processing-system/pipeline_LayoutLMV3/label2id_Intersect\"):\n",
    "    label_set = Counter()\n",
    "    with open(jsonl_path, \"r\", encoding=\"utf-8\") as f:\n",
    "        for line in f:\n",
    "            item = json.loads(line)\n",
    "            for label in item[\"labels\"]:\n",
    "                label_set[label] += 1\n",
    "\n",
    "    labels = sorted(label_set.keys())\n",
    "    label2id = {label: idx for idx, label in enumerate(labels)}\n",
    "    id2label = {idx: label for label, idx in label2id.items()}\n",
    "\n",
    "    # Tạo thư mục nếu chưa tồn tại\n",
    "    os.makedirs(output_path, exist_ok=True)\n",
    "\n",
    "    # Ghi các file JSON vào thư mục chỉ định\n",
    "    with open(os.path.join(output_path, \"label2id.json\"), \"w\", encoding=\"utf-8\") as f:\n",
    "        json.dump(label2id, f, ensure_ascii=False, indent=2)\n",
    "\n",
    "    with open(os.path.join(output_path, \"id2label.json\"), \"w\", encoding=\"utf-8\") as f:\n",
    "        json.dump(id2label, f, ensure_ascii=False, indent=2)\n",
    "\n",
    "    print(f\"✅ Đã tạo label2id.json và id2label.json tại {output_path}\")\n",
    "\n",
    "# 👉 Gọi hàm\n",
    "generate_label2id(\n",
    "    \"/mnt/c/Users/Legion/Documents/jimmy tran/Automated-invoice-processing-system/BIO-TAGGING SCRIPTS/layoutlmv3_intersection.jsonl\"\n",
    ")\n"
   ]
  }
 ],
 "metadata": {
  "kernelspec": {
   "display_name": "erp",
   "language": "python",
   "name": "python3"
  },
  "language_info": {
   "codemirror_mode": {
    "name": "ipython",
    "version": 3
   },
   "file_extension": ".py",
   "mimetype": "text/x-python",
   "name": "python",
   "nbconvert_exporter": "python",
   "pygments_lexer": "ipython3",
   "version": "3.12.9"
  }
 },
 "nbformat": 4,
 "nbformat_minor": 5
}
