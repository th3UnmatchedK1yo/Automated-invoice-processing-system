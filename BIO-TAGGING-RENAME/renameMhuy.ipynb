{
 "cells": [
  {
   "cell_type": "code",
   "execution_count": 2,
   "id": "e71667fb",
   "metadata": {},
   "outputs": [],
   "source": [
    "from pathlib import Path, PurePosixPath\n",
    "import json, sys\n",
    "\n",
    "LABEL_DIR = Path(\"/mnt/c/Users/Legion/Documents/jimmy tran/Automated-invoice-processing-system/BIO-TAGGING WITH GPT/tnghia_data\")   # <─ your folder\n",
    "\n",
    "for p in LABEL_DIR.glob(\"*.json\"):\n",
    "    try:\n",
    "        json.loads(p.read_text(encoding=\"utf-8\"))\n",
    "    except Exception as e:\n",
    "        print(f\"⚠️  Problem in {p.name} — {type(e).__name__}: {e}\")\n",
    "        # optional: show first 200 chars\n",
    "        snippet = p.read_bytes()[:200]\n",
    "        print(\"   First bytes:\", snippet, \"\\n\")\n"
   ]
  },
  {
   "cell_type": "code",
   "execution_count": 5,
   "id": "92201f26",
   "metadata": {},
   "outputs": [
    {
     "name": "stdout",
     "output_type": "stream",
     "text": [
      "⚠️  10.json  —  JSONDecodeError: Expecting value: line 1 column 1 (char 0)\n",
      "   First bytes: b'' \n",
      "\n",
      "⚠️  7.json  —  JSONDecodeError: Expecting value: line 1 column 1 (char 0)\n",
      "   First bytes: b'' \n",
      "\n",
      "\n",
      "Summary: 2 problem file(s).\n"
     ]
    }
   ],
   "source": [
    "from pathlib import Path\n",
    "import json\n",
    "\n",
    "LABEL_DIR = Path(r\"/mnt/c/Users/Legion/Documents/jimmy tran/Automated-invoice-processing-system/BIO-TAGGING WITH GPT\")\n",
    "\n",
    "# 1) If your JSON files are inside sub-folders, switch to rglob:\n",
    "# for p in LABEL_DIR.rglob(\"*.json\"):\n",
    "\n",
    "# 2) To list only the bad files at the end, collect them:\n",
    "bad_files = []\n",
    "\n",
    "for p in LABEL_DIR.glob(\"*.json\"):\n",
    "    try:\n",
    "        json.loads(p.read_text(encoding=\"utf-8\"))\n",
    "    except Exception as e:\n",
    "        print(f\"⚠️  {p.name}  —  {type(e).__name__}: {e}\")\n",
    "        print(\"   First bytes:\", p.read_bytes()[:120], \"\\n\")\n",
    "        bad_files.append(p)\n",
    "\n",
    "print(\"\\nSummary:\", len(bad_files), \"problem file(s).\")\n"
   ]
  },
  {
   "cell_type": "code",
   "execution_count": 10,
   "id": "0ed28bfe",
   "metadata": {},
   "outputs": [
    {
     "name": "stdout",
     "output_type": "stream",
     "text": [
      "\n",
      "‼️  Broken file: 10.json\n",
      "    Error:  Expecting value: line 1 column 1 (char 0)\n",
      "    First bytes: b''\n"
     ]
    },
    {
     "ename": "SystemExit",
     "evalue": "1",
     "output_type": "error",
     "traceback": [
      "An exception has occurred, use %tb to see the full traceback.\n",
      "\u001b[31mSystemExit\u001b[39m\u001b[31m:\u001b[39m 1\n"
     ]
    }
   ],
   "source": [
    "from pathlib import Path\n",
    "import json, sys\n",
    "\n",
    "LABEL_DIR = Path(r\"/mnt/c/Users/Legion/Documents/jimmy tran/Automated-invoice-processing-system/BIO-TAGGING WITH GPT\")\n",
    "\n",
    "for p in LABEL_DIR.rglob(\"*.json\"):         # rglob → includes sub-folders\n",
    "    try:\n",
    "        json.loads(p.read_text(encoding=\"utf-8\"))\n",
    "    except Exception as e:\n",
    "        print(f\"\\n‼️  Broken file: {p.relative_to(LABEL_DIR)}\")\n",
    "        print(\"    Error: \", e)\n",
    "        print(\"    First bytes:\", p.read_bytes()[:150])\n",
    "        sys.exit(1)                         # stop at first failure\n",
    "print(\"✓ All files parse cleanly.\")\n"
   ]
  },
  {
   "cell_type": "code",
   "execution_count": 7,
   "id": "a4458448",
   "metadata": {},
   "outputs": [
    {
     "name": "stdout",
     "output_type": "stream",
     "text": [
      "\n",
      "Done.  64 file(s) written to /mnt/c/Users/Legion/Documents/jimmy tran/Automated-invoice-processing-system/BIO-TAGGING-RENAME/qhuy_data\n"
     ]
    }
   ],
   "source": [
    "# ── cell: sync_id_to_filename_copy.ipynb ──────────────────────────────────────\n",
    "from pathlib import Path\n",
    "import json, shutil\n",
    "\n",
    "# ---------------------------------------------------------------------\n",
    "LABEL_DIR = Path(r\"/mnt/c/Users/Legion/Documents/jimmy tran/Automated-invoice-processing-system/BIO-TAGGING WITH GPT/qhuy_data\")\n",
    "DEST_DIR  = LABEL_DIR / \"/mnt/c/Users/Legion/Documents/jimmy tran/Automated-invoice-processing-system/BIO-TAGGING-RENAME/qhuy_data\"     # <─ all updated files go here\n",
    "DEST_DIR.mkdir(exist_ok=True)\n",
    "\n",
    "# ---------------------------------------------------------------------\n",
    "empty, bad, fixed = 0, 0, 0\n",
    "\n",
    "for src_path in LABEL_DIR.glob(\"*.json\"):\n",
    "    # 1) Skip empties\n",
    "    if src_path.stat().st_size == 0:\n",
    "        empty += 1\n",
    "        print(\"⚠️  Empty file skipped:\", src_path.name)\n",
    "        continue\n",
    "\n",
    "    # 2) Try to load JSON\n",
    "    try:\n",
    "        data = json.loads(src_path.read_text(encoding=\"utf-8\"))\n",
    "    except Exception as e:\n",
    "        bad += 1\n",
    "        print(\"⚠️  Bad JSON skipped:\", src_path.name, \"—\", e)\n",
    "        continue\n",
    "\n",
    "    # 3) Update the id\n",
    "    data[\"id\"] = src_path.stem\n",
    "\n",
    "    # 4) Write to destination folder\n",
    "    dest_path = DEST_DIR / src_path.name\n",
    "    dest_path.write_text(json.dumps(data, ensure_ascii=False, indent=2), encoding=\"utf-8\")\n",
    "    fixed += 1\n",
    "\n",
    "print(f\"\\nDone.  {fixed} file(s) written to {DEST_DIR}\")\n",
    "if empty or bad:\n",
    "    print(f\"   Skipped {empty} empty and {bad} malformed file(s).\")\n"
   ]
  }
 ],
 "metadata": {
  "kernelspec": {
   "display_name": "erp",
   "language": "python",
   "name": "python3"
  },
  "language_info": {
   "codemirror_mode": {
    "name": "ipython",
    "version": 3
   },
   "file_extension": ".py",
   "mimetype": "text/x-python",
   "name": "python",
   "nbconvert_exporter": "python",
   "pygments_lexer": "ipython3",
   "version": "3.12.9"
  }
 },
 "nbformat": 4,
 "nbformat_minor": 5
}
