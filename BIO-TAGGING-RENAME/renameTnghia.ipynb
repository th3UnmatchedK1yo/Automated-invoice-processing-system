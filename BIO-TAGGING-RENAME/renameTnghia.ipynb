{
 "cells": [
  {
   "cell_type": "code",
   "execution_count": 1,
   "id": "7754817e",
   "metadata": {},
   "outputs": [
    {
     "name": "stdout",
     "output_type": "stream",
     "text": [
      "✅  ID fields synced to filenames → /mnt/c/Users/Legion/Documents/jimmy tran/Automated-invoice-processing-system/BIO-TAGGING-RENAME/nghia_data\n"
     ]
    }
   ],
   "source": [
    "from pathlib import Path\n",
    "import json\n",
    "\n",
    "SRC_DIR  = Path(r\"/mnt/c/Users/Legion/Documents/jimmy tran/Automated-invoice-processing-system/BIO-TAGGING WITH GPT/tnghia_data\")\n",
    "DEST_DIR = Path(r\"/mnt/c/Users/Legion/Documents/jimmy tran/Automated-invoice-processing-system/BIO-TAGGING-RENAME/nghia_data\")\n",
    "DEST_DIR.mkdir(parents=True, exist_ok=True)\n",
    "\n",
    "def update_id(obj, new_id):\n",
    "    \"\"\"\n",
    "    Add/replace the 'id' field in a JSON object (dict).\n",
    "    Silently skip if obj is not a dict.\n",
    "    \"\"\"\n",
    "    if isinstance(obj, dict):\n",
    "        obj[\"id\"] = new_id\n",
    "\n",
    "for src_path in SRC_DIR.glob(\"*.json*\"):        # handles .json or .jsonl\n",
    "    text = src_path.read_text(encoding=\"utf-8\")\n",
    "\n",
    "    # --- 1. Detect structure ----------------------------------------------\n",
    "    try:                        # try full-file JSON first\n",
    "        data = json.loads(text)\n",
    "        structure = \"json\"\n",
    "    except json.JSONDecodeError:\n",
    "        # fall back to JSON-Lines\n",
    "        data = [json.loads(line) for line in text.splitlines() if line.strip()]\n",
    "        structure = \"jsonl\"\n",
    "\n",
    "    # --- 2. Patch IDs ------------------------------------------------------\n",
    "    stem = src_path.stem                # filename without extension\n",
    "    if structure == \"json\":\n",
    "        if isinstance(data, list):\n",
    "            for obj in data:\n",
    "                update_id(obj, stem)\n",
    "        else:                           # single dict\n",
    "            update_id(data, stem)\n",
    "    else:                               # jsonl\n",
    "        for obj in data:\n",
    "            update_id(obj, stem)\n",
    "\n",
    "    # --- 3. Write out ------------------------------------------------------\n",
    "    dest_path = DEST_DIR / src_path.name\n",
    "    if structure == \"json\":\n",
    "        dest_path.write_text(\n",
    "            json.dumps(data, ensure_ascii=False, indent=2),\n",
    "            encoding=\"utf-8\")\n",
    "    else:                               # keep JSON-Lines one per line\n",
    "        dest_path.write_text(\n",
    "            \"\\n\".join(json.dumps(obj, ensure_ascii=False) for obj in data),\n",
    "            encoding=\"utf-8\")\n",
    "\n",
    "print(\"✅  ID fields synced to filenames →\", DEST_DIR)\n"
   ]
  }
 ],
 "metadata": {
  "kernelspec": {
   "display_name": "erp",
   "language": "python",
   "name": "python3"
  },
  "language_info": {
   "codemirror_mode": {
    "name": "ipython",
    "version": 3
   },
   "file_extension": ".py",
   "mimetype": "text/x-python",
   "name": "python",
   "nbconvert_exporter": "python",
   "pygments_lexer": "ipython3",
   "version": "3.12.9"
  }
 },
 "nbformat": 4,
 "nbformat_minor": 5
}
