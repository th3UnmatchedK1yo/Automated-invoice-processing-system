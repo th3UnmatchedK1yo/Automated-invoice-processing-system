{
 "cells": [
  {
   "cell_type": "code",
   "execution_count": 1,
   "id": "16fd207e",
   "metadata": {},
   "outputs": [
    {
     "data": {
      "application/vnd.jupyter.widget-view+json": {
       "model_id": "72a70289d24b40f9b49d21f9fbce79bc",
       "version_major": 2,
       "version_minor": 0
      },
      "text/plain": [
       "Final buyer-name fix: 0it [00:00, ?it/s]"
      ]
     },
     "metadata": {},
     "output_type": "display_data"
    },
    {
     "name": "stdout",
     "output_type": "stream",
     "text": [
      "✅  Buyer-name labels fixed – saved to mcuong_data_refined_v3.jsonl\n"
     ]
    }
   ],
   "source": [
    "\"\"\"\n",
    "patch_buyer_label_token.py\n",
    "──────────────────────────\n",
    "Move the B-BUYER_NAME tag from any token that *begins with* “Tên”\n",
    "to the very next token (the actual company name) and mark the label\n",
    "token `O`.\n",
    "\n",
    "Run this once on the JSONL that came out of your last step; it will\n",
    "touch only the remaining faulty lines.\n",
    "\"\"\"\n",
    "\n",
    "import json, pathlib\n",
    "from tqdm.auto import tqdm\n",
    "\n",
    "SRC = \"/mnt/c/Users/Legion/Documents/jimmy tran/Automated-invoice-processing-system/BIO-TAGGING-SingleFILE/mcuong_data/mcuong_data_refined_v2.jsonl\"      # ← file you just created\n",
    "DST = \"mcuong_data_refined_v3.jsonl\"      # → fully BIO-valid\n",
    "\n",
    "def fix_buyer_name(words, labels):\n",
    "    i = 0\n",
    "    while i < len(labels):\n",
    "        if labels[i] == \"B-BUYER_NAME\" and words[i].startswith(\"Tên\"):\n",
    "            # clear the label token\n",
    "            labels[i] = \"O\"\n",
    "            # promote the very next token to B-BUYER_NAME\n",
    "            if i + 1 < len(labels):\n",
    "                labels[i + 1] = \"B-BUYER_NAME\"\n",
    "            # any further tokens already inside the span keep I-BUYER_NAME\n",
    "            i += 2\n",
    "        else:\n",
    "            i += 1\n",
    "\n",
    "with pathlib.Path(DST).open(\"w\", encoding=\"utf-8\") as out_f, \\\n",
    "     pathlib.Path(SRC).open(encoding=\"utf-8\") as in_f:\n",
    "    for line in tqdm(in_f, desc=\"Final buyer-name fix\"):\n",
    "        rec = json.loads(line)\n",
    "        fix_buyer_name(rec[\"words\"], rec[\"labels\"])\n",
    "        json.dump(rec, out_f, ensure_ascii=False)\n",
    "        out_f.write(\"\\n\")\n",
    "\n",
    "print(\"✅  Buyer-name labels fixed – saved to\", DST)\n"
   ]
  }
 ],
 "metadata": {
  "kernelspec": {
   "display_name": "erp",
   "language": "python",
   "name": "python3"
  },
  "language_info": {
   "codemirror_mode": {
    "name": "ipython",
    "version": 3
   },
   "file_extension": ".py",
   "mimetype": "text/x-python",
   "name": "python",
   "nbconvert_exporter": "python",
   "pygments_lexer": "ipython3",
   "version": "3.12.9"
  }
 },
 "nbformat": 4,
 "nbformat_minor": 5
}
