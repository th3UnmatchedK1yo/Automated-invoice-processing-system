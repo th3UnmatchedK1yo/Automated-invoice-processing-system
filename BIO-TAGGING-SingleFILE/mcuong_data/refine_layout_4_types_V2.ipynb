{
 "cells": [
  {
   "cell_type": "code",
   "execution_count": 2,
   "id": "5d5f96b0",
   "metadata": {},
   "outputs": [
    {
     "data": {
      "application/vnd.jupyter.widget-view+json": {
       "model_id": "e685fb3ddd7f4dfda6a1db54e038bab1",
       "version_major": 2,
       "version_minor": 0
      },
      "text/plain": [
       "Final BIO patch: 0it [00:00, ?it/s]"
      ]
     },
     "metadata": {},
     "output_type": "display_data"
    },
    {
     "name": "stdout",
     "output_type": "stream",
     "text": [
      "✅  Buyer-name and payment-method tags fixed → mcuong_data_refined_v2.jsonl\n"
     ]
    }
   ],
   "source": [
    "\"\"\"\n",
    "patch_buyer_name_and_payment.py\n",
    "───────────────────────────────\n",
    "• Move the B-BUYER_NAME tag from the field-label token\n",
    "  “Tên đơn vị …” to the first following token that is not\n",
    "  one of the label words.\n",
    "• If the span PAYMENT_METHOD is completely missing, tag the\n",
    "  token that contains ‘/’ or equals ‘Tiền mặt’ (or lowercase\n",
    "  variant) as B-PAYMENT_METHOD.\n",
    "\"\"\"\n",
    "\n",
    "import json, pathlib, re\n",
    "from tqdm.auto import tqdm\n",
    "\n",
    "SRC = \"/mnt/c/Users/Legion/Documents/jimmy tran/Automated-invoice-processing-system/BIO-TAGGING-SingleFILE/mcuong_data/mcuong_data_refined.jsonl\"       # ← your last output\n",
    "DST = \"mcuong_data_refined_v2.jsonl\"       # → fully correct\n",
    "\n",
    "LABEL_WORDS = {\"Tên\", \"đơn\", \"vị\", \"(Company's\", \"name):\"}\n",
    "PAY_RE      = re.compile(r\"/\")         # catches TM/CK, etc.\n",
    "\n",
    "def fix_buyer_name(words, labels):\n",
    "    i = 0\n",
    "    while i < len(labels):\n",
    "        if labels[i] == \"B-BUYER_NAME\":\n",
    "            # collect current span\n",
    "            span = []\n",
    "            j = i\n",
    "            while j < len(labels) and labels[j].startswith((\"B-BUYER_NAME\", \"I-BUYER_NAME\")):\n",
    "                span.append(j)\n",
    "                j += 1\n",
    "            # first real token\n",
    "            first_real = next((idx for idx in span if words[idx] not in LABEL_WORDS), None)\n",
    "            if first_real is None:  # no real token – drop span\n",
    "                for idx in span: labels[idx] = \"O\"\n",
    "            else:\n",
    "                for idx in span:\n",
    "                    if idx == first_real:\n",
    "                        labels[idx] = \"B-BUYER_NAME\"\n",
    "                    elif words[idx] not in LABEL_WORDS:\n",
    "                        labels[idx] = \"I-BUYER_NAME\"\n",
    "                    else:\n",
    "                        labels[idx] = \"O\"\n",
    "            i = j\n",
    "        else:\n",
    "            i += 1\n",
    "\n",
    "def ensure_payment_method(words, labels):\n",
    "    if \"B-PAYMENT_METHOD\" in labels:\n",
    "        return  # already present\n",
    "    for idx, (w, l) in enumerate(zip(words, labels)):\n",
    "        if l == \"O\" and (PAY_RE.search(w) or w.lower().startswith(\"tiền\")):\n",
    "            labels[idx] = \"B-PAYMENT_METHOD\"\n",
    "            break\n",
    "\n",
    "with pathlib.Path(DST).open(\"w\", encoding=\"utf-8\") as out_f, \\\n",
    "     pathlib.Path(SRC).open(encoding=\"utf-8\") as in_f:\n",
    "    for line in tqdm(in_f, desc=\"Final BIO patch\"):\n",
    "        rec = json.loads(line)\n",
    "        fix_buyer_name(rec[\"words\"], rec[\"labels\"])\n",
    "        ensure_payment_method(rec[\"words\"], rec[\"labels\"])\n",
    "        json.dump(rec, out_f, ensure_ascii=False)\n",
    "        out_f.write(\"\\n\")\n",
    "\n",
    "print(\"✅  Buyer-name and payment-method tags fixed →\", DST)\n"
   ]
  }
 ],
 "metadata": {
  "kernelspec": {
   "display_name": "erp",
   "language": "python",
   "name": "python3"
  },
  "language_info": {
   "codemirror_mode": {
    "name": "ipython",
    "version": 3
   },
   "file_extension": ".py",
   "mimetype": "text/x-python",
   "name": "python",
   "nbconvert_exporter": "python",
   "pygments_lexer": "ipython3",
   "version": "3.12.9"
  }
 },
 "nbformat": 4,
 "nbformat_minor": 5
}
