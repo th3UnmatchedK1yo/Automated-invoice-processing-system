{
 "cells": [
  {
   "cell_type": "code",
   "execution_count": 2,
   "id": "72389c86",
   "metadata": {},
   "outputs": [
    {
     "name": "stderr",
     "output_type": "stream",
     "text": [
      "<>:1: SyntaxWarning: invalid escape sequence '\\d'\n",
      "<>:1: SyntaxWarning: invalid escape sequence '\\d'\n",
      "/tmp/ipykernel_4837/805784104.py:1: SyntaxWarning: invalid escape sequence '\\d'\n",
      "  \"\"\"\n"
     ]
    },
    {
     "data": {
      "application/vnd.jupyter.widget-view+json": {
       "model_id": "1fe4befdd0834134804f581723adac28",
       "version_major": 2,
       "version_minor": 0
      },
      "text/plain": [
       "BIO repair: 0it [00:00, ?it/s]"
      ]
     },
     "metadata": {},
     "output_type": "display_data"
    },
    {
     "name": "stdout",
     "output_type": "stream",
     "text": [
      "✅  All field-label leaks removed → /mnt/c/Users/Legion/Documents/jimmy tran/Automated-invoice-processing-system/BIO-TAGGING-SingleFILE/qhuy_data/qhuy_data_refined.jsonl\n"
     ]
    }
   ],
   "source": [
    "\"\"\"\n",
    "clean_field_label_leak.py\n",
    "─────────────────────────\n",
    "Repairs JSONL invoices where field-label words are inside BIO spans.\n",
    "\n",
    "Algorithm\n",
    "1.  For each span type below, collect the contiguous tokens that have the\n",
    "    tag and decide which tokens are *values* vs. *labels*:\n",
    "\n",
    "    TAG                keep-regex\n",
    "    ───────────────────────────────────────────────\n",
    "    SELLER_TAX_CODE    r'^\\d{10}$'\n",
    "    BUYER_TAX_CODE     r'^\\d{10}$'\n",
    "    SERIAL             r'^[0-9A-Z]{6,}$'\n",
    "    INVOICE_NO         r'^\\d{4,}$'\n",
    "    PAYMENT_METHOD     r'[/]'   or token.lower().startswith('tm')\n",
    "    TOTAL_*            r'^\\d+(\\.\\d+)+$'\n",
    "\n",
    "2.  Inside that span\n",
    "      • first value token → B-TAG\n",
    "      • next value tokens → I-TAG\n",
    "      • non-value tokens → O\n",
    "\n",
    "3.  Merge duplicate B-BUYER_NAME islands (first B stays, others → I).\n",
    "\n",
    "After running, every span begins with B-…, field-label tokens are O,\n",
    "and the four invoices you pasted become BIO-valid.\n",
    "\"\"\"\n",
    "\n",
    "import json, re, pathlib\n",
    "from tqdm.auto import tqdm\n",
    "\n",
    "SRC = \"/mnt/c/Users/Legion/Documents/jimmy tran/Automated-invoice-processing-system/BIO-TAGGING-SingleFILE/qhuy_data/qhuy_data.jsonl\"    # input\n",
    "DST = \"/mnt/c/Users/Legion/Documents/jimmy tran/Automated-invoice-processing-system/BIO-TAGGING-SingleFILE/qhuy_data/qhuy_data_refined.jsonl\"          # output\n",
    "\n",
    "KEEP_PATTERNS = {\n",
    "    \"SELLER_TAX_CODE\": re.compile(r\"^\\d{10}$\"),\n",
    "    \"BUYER_TAX_CODE\":  re.compile(r\"^\\d{10}$\"),\n",
    "    \"SERIAL\":          re.compile(r\"^[0-9A-Z]{6,}$\"),\n",
    "    \"INVOICE_NO\":      re.compile(r\"^\\d{4,}$\"),\n",
    "    \"TOTAL_AMOUNT\":    re.compile(r\"^\\d+(\\.\\d+)+$\"),\n",
    "    \"VAT_AMOUNT\":      re.compile(r\"^\\d+(\\.\\d+)+$\"),\n",
    "    \"TOTAL_PAYMENT\":   re.compile(r\"^\\d+(\\.\\d+)+$\"),\n",
    "}\n",
    "\n",
    "def keep_token(tag, token):\n",
    "    if tag == \"PAYMENT_METHOD\":\n",
    "        return \"/\" in token or token.lower().startswith(\"tm\")\n",
    "    pat = KEEP_PATTERNS.get(tag)\n",
    "    return bool(pat and pat.match(token))\n",
    "\n",
    "def clean_span(tokens, labels, tag):\n",
    "    i = 0\n",
    "    while i < len(labels):\n",
    "        if labels[i] == f\"B-{tag}\":\n",
    "            span = []\n",
    "            j = i\n",
    "            while j < len(labels) and labels[j].startswith((\"B-\"+tag, \"I-\"+tag)):\n",
    "                span.append(j)\n",
    "                j += 1\n",
    "            # retain only tokens that match the keep-rule\n",
    "            keep_idx = [idx for idx in span if keep_token(tag, tokens[idx])]\n",
    "            if not keep_idx:                       # no real value → wipe span\n",
    "                for idx in span: labels[idx] = \"O\"\n",
    "            else:\n",
    "                first = keep_idx[0]\n",
    "                for idx in span:\n",
    "                    if idx == first:\n",
    "                        labels[idx] = f\"B-{tag}\"\n",
    "                    elif idx in keep_idx:\n",
    "                        labels[idx] = f\"I-{tag}\"\n",
    "                    else:\n",
    "                        labels[idx] = \"O\"\n",
    "            i = j\n",
    "        else:\n",
    "            i += 1\n",
    "\n",
    "def merge_buyer_name(labels):\n",
    "    inside = False\n",
    "    for k, lab in enumerate(labels):\n",
    "        if lab.startswith((\"B-BUYER_NAME\", \"I-BUYER_NAME\")):\n",
    "            if lab.startswith(\"B-\"):\n",
    "                if inside:\n",
    "                    labels[k] = \"I-BUYER_NAME\"\n",
    "                inside = True\n",
    "        else:\n",
    "            inside = False\n",
    "\n",
    "def fix_record(rec):\n",
    "    tok, lab = rec[\"words\"], rec[\"labels\"]\n",
    "    for tag in [\"SELLER_TAX_CODE\", \"BUYER_TAX_CODE\",\n",
    "                \"SERIAL\", \"INVOICE_NO\",\n",
    "                \"PAYMENT_METHOD\",\n",
    "                \"TOTAL_AMOUNT\", \"VAT_AMOUNT\", \"TOTAL_PAYMENT\"]:\n",
    "        clean_span(tok, lab, tag)\n",
    "    merge_buyer_name(lab)\n",
    "    rec[\"labels\"] = lab\n",
    "    return rec\n",
    "\n",
    "with pathlib.Path(DST).open(\"w\", encoding=\"utf-8\") as out_f, \\\n",
    "     pathlib.Path(SRC).open(encoding=\"utf-8\") as in_f:\n",
    "    for raw in tqdm(in_f, desc=\"BIO repair\"):\n",
    "        out_f.write(json.dumps(fix_record(json.loads(raw)), ensure_ascii=False) + \"\\n\")\n",
    "\n",
    "print(\"✅  All field-label leaks removed →\", DST)\n"
   ]
  }
 ],
 "metadata": {
  "kernelspec": {
   "display_name": "erp",
   "language": "python",
   "name": "python3"
  },
  "language_info": {
   "codemirror_mode": {
    "name": "ipython",
    "version": 3
   },
   "file_extension": ".py",
   "mimetype": "text/x-python",
   "name": "python",
   "nbconvert_exporter": "python",
   "pygments_lexer": "ipython3",
   "version": "3.12.9"
  }
 },
 "nbformat": 4,
 "nbformat_minor": 5
}
