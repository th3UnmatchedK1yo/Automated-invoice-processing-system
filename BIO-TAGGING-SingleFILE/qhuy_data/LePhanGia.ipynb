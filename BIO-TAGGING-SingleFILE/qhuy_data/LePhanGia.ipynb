{
 "cells": [
  {
   "cell_type": "code",
   "execution_count": 3,
   "id": "fb957848",
   "metadata": {},
   "outputs": [
    {
     "name": "stdout",
     "output_type": "stream",
     "text": [
      "Done. Processed 22 records → invoices_fixed.jsonl\n"
     ]
    }
   ],
   "source": [
    "# ----- fix_bio_jsonl.ipynb cell -----\n",
    "import json\n",
    "from pathlib import Path\n",
    "\n",
    "# ========= CONFIG =========\n",
    "INPUT_PATH  = Path(\"/mnt/c/Users/Legion/Documents/jimmy tran/Automated-invoice-processing-system/BIO-TAGGING-SingleFILE/qhuy_data/lephan.jsonl\")     # <-- put your source file here\n",
    "OUTPUT_PATH = Path(\"invoices_fixed.jsonl\")   # <-- destination file\n",
    "# If you’d rather rename  \"labels\"  →  \"ner_tags\", toggle the flag below.\n",
    "RENAME_LABELS_FIELD = False\n",
    "# ===========================\n",
    "\n",
    "\n",
    "def bio_fix(label_list):\n",
    "    \"\"\"\n",
    "    Convert any I-XX that wrongly starts a span to B-XX.\n",
    "    Works on a single list of BIO tags.\n",
    "    \"\"\"\n",
    "    fixed = label_list.copy()\n",
    "    prev_tag, prev_type = \"O\", None\n",
    "\n",
    "    for i, tag in enumerate(label_list):\n",
    "        if tag == \"O\":\n",
    "            prev_tag, prev_type = tag, None\n",
    "            continue\n",
    "\n",
    "        prefix, ent_type = tag.split(\"-\", 1)\n",
    "\n",
    "        # If we're at sequence start OR previous tag is O OR previous entity is different,\n",
    "        # an I- tag is illegal → change to B-\n",
    "        if prefix == \"I\" and (prev_tag == \"O\" or prev_type != ent_type):\n",
    "            fixed[i] = \"B-\" + ent_type\n",
    "\n",
    "        prev_tag, prev_type = fixed[i].split(\"-\", 1)\n",
    "\n",
    "    return fixed\n",
    "\n",
    "\n",
    "fixed_lines = 0\n",
    "with INPUT_PATH.open(encoding=\"utf-8\") as fin, OUTPUT_PATH.open(\"w\", encoding=\"utf-8\") as fout:\n",
    "    for line in fin:\n",
    "        record = json.loads(line)\n",
    "\n",
    "        # The original field can be either \"labels\" or \"ner_tags\".\n",
    "        key = \"labels\" if \"labels\" in record else \"ner_tags\"\n",
    "        record[key] = bio_fix(record[key])\n",
    "\n",
    "        if RENAME_LABELS_FIELD and key == \"labels\":\n",
    "            record[\"ner_tags\"] = record.pop(\"labels\")\n",
    "\n",
    "        fout.write(json.dumps(record, ensure_ascii=False) + \"\\n\")\n",
    "        fixed_lines += 1\n",
    "\n",
    "print(f\"Done. Processed {fixed_lines} records → {OUTPUT_PATH}\")\n"
   ]
  }
 ],
 "metadata": {
  "kernelspec": {
   "display_name": "erp",
   "language": "python",
   "name": "python3"
  },
  "language_info": {
   "codemirror_mode": {
    "name": "ipython",
    "version": 3
   },
   "file_extension": ".py",
   "mimetype": "text/x-python",
   "name": "python",
   "nbconvert_exporter": "python",
   "pygments_lexer": "ipython3",
   "version": "3.12.9"
  }
 },
 "nbformat": 4,
 "nbformat_minor": 5
}
