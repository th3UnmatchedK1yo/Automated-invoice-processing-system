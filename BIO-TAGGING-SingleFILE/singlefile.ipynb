{
 "cells": [
  {
   "cell_type": "code",
   "execution_count": 2,
   "id": "7e532b31",
   "metadata": {},
   "outputs": [
    {
     "name": "stdout",
     "output_type": "stream",
     "text": [
      "✓  64 record(s) written to /mnt/c/Users/Legion/Documents/jimmy tran/Automated-invoice-processing-system/BIO-TAGGING-SingleFILE/qhuy_data/tnghia_data.jsonl\n"
     ]
    }
   ],
   "source": [
    "# ── cell / file: merge_to_jsonl.py ──────────────────────────────────────────\n",
    "from pathlib import Path\n",
    "\n",
    "SRC_DIR = Path(r\"/mnt/c/Users/Legion/Documents/jimmy tran/Automated-invoice-processing-system/BIO-TAGGING-SingleLINE/qhuy_data\")         # output of script #1\n",
    "OUTPUT_JSONL = Path(r\"/mnt/c/Users/Legion/Documents/jimmy tran/Automated-invoice-processing-system/BIO-TAGGING-SingleFILE/qhuy_data/tnghia_data.jsonl\") # final merged file\n",
    "\n",
    "with OUTPUT_JSONL.open(\"w\", encoding=\"utf-8\") as outfile:\n",
    "    for p in sorted(SRC_DIR.glob(\"*.json\")):        # sorted → deterministic order\n",
    "        line = p.read_text(encoding=\"utf-8\").rstrip(\"\\n\")\n",
    "        outfile.write(line + \"\\n\")\n",
    "\n",
    "print(f\"✓  {len(list(SRC_DIR.glob('*.json')))} record(s) written to {OUTPUT_JSONL}\")\n"
   ]
  }
 ],
 "metadata": {
  "kernelspec": {
   "display_name": "erp",
   "language": "python",
   "name": "python3"
  },
  "language_info": {
   "codemirror_mode": {
    "name": "ipython",
    "version": 3
   },
   "file_extension": ".py",
   "mimetype": "text/x-python",
   "name": "python",
   "nbconvert_exporter": "python",
   "pygments_lexer": "ipython3",
   "version": "3.12.9"
  }
 },
 "nbformat": 4,
 "nbformat_minor": 5
}
