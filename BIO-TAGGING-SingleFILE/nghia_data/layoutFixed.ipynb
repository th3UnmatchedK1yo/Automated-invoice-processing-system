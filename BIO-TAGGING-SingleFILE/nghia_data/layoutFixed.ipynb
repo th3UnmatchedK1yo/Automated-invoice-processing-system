{
 "cells": [
  {
   "cell_type": "code",
   "execution_count": 1,
   "id": "b0a11168",
   "metadata": {},
   "outputs": [
    {
     "data": {
      "application/vnd.jupyter.widget-view+json": {
       "model_id": "0a918da5f21e47a9b5f4be8ce59bcbad",
       "version_major": 2,
       "version_minor": 0
      },
      "text/plain": [
       "Fixing BIO: 0it [00:00, ?it/s]"
      ]
     },
     "metadata": {},
     "output_type": "display_data"
    },
    {
     "name": "stdout",
     "output_type": "stream",
     "text": [
      "✔️  Saved corrected file → nghia_data_refined.jsonl\n"
     ]
    }
   ],
   "source": [
    "# ── Fix word-level BIO tags so every span starts with B- ────────────────\n",
    "import json, pathlib\n",
    "from tqdm.auto import tqdm\n",
    "\n",
    "SRC = \"/mnt/c/Users/Legion/Documents/jimmy tran/Automated-invoice-processing-system/BIO-TAGGING-SingleFILE/nghia_data/nghia_data.jsonl\"          # ← your current file\n",
    "DST = \"nghia_data_refined.jsonl\"    # ← output with corrected BIO\n",
    "\n",
    "def fix_bio_sequence(labels):\n",
    "    \"\"\"Return a new list where the first token of each entity is 'B-TAG'\n",
    "       and all following contiguous tokens of that entity are 'I-TAG'.\"\"\"\n",
    "    fixed = []\n",
    "    prev_entity = None\n",
    "    for lab in labels:\n",
    "        if lab == \"O\":\n",
    "            fixed.append(\"O\")\n",
    "            prev_entity = None\n",
    "            continue\n",
    "\n",
    "        prefix, entity = lab.split(\"-\", 1)\n",
    "\n",
    "        if prev_entity != entity:             # new span starts here\n",
    "            fixed.append(f\"B-{entity}\")\n",
    "        else:                                 # continuation of current span\n",
    "            fixed.append(f\"I-{entity}\")\n",
    "\n",
    "        prev_entity = entity\n",
    "    return fixed\n",
    "\n",
    "with pathlib.Path(DST).open(\"w\", encoding=\"utf-8\") as out_f:\n",
    "    with pathlib.Path(SRC).open(encoding=\"utf-8\") as in_f:\n",
    "        for line in tqdm(in_f, desc=\"Fixing BIO\"):\n",
    "            rec = json.loads(line)\n",
    "            rec[\"labels\"] = fix_bio_sequence(rec[\"labels\"])\n",
    "            json.dump(rec, out_f, ensure_ascii=False)\n",
    "            out_f.write(\"\\n\")\n",
    "\n",
    "print(f\"✔️  Saved corrected file → {DST}\")\n"
   ]
  }
 ],
 "metadata": {
  "kernelspec": {
   "display_name": "erp",
   "language": "python",
   "name": "python3"
  },
  "language_info": {
   "codemirror_mode": {
    "name": "ipython",
    "version": 3
   },
   "file_extension": ".py",
   "mimetype": "text/x-python",
   "name": "python",
   "nbconvert_exporter": "python",
   "pygments_lexer": "ipython3",
   "version": "3.12.9"
  }
 },
 "nbformat": 4,
 "nbformat_minor": 5
}
