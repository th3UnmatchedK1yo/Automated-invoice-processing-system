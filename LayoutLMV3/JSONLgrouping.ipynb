{
 "cells": [
  {
   "cell_type": "code",
   "execution_count": 7,
   "id": "d27cf3c0",
   "metadata": {},
   "outputs": [
    {
     "name": "stdout",
     "output_type": "stream",
     "text": [
      "✅ Gộp: 1C23TTN_00000332.jsonl\n",
      "✅ Gộp: 1C23TYY_00000007.jsonl\n",
      "✅ Gộp: 1C23TYY_00000010.jsonl\n",
      "✅ Gộp: 1C23TYY_00000014.jsonl\n",
      "✅ Gộp: 1C23TYY_00000015.jsonl\n",
      "✅ Gộp: 1C23TYY_00000020.jsonl\n",
      "✅ Gộp: 1C23TYY_00000021.jsonl\n",
      "✅ Gộp: 1C23TYY_00000025.jsonl\n",
      "✅ Gộp: 1C23TYY_00000037.jsonl\n",
      "✅ Gộp: 1C23TYY_00000038.jsonl\n",
      "✅ Gộp: 1C23TYY_00000059.jsonl\n",
      "✅ Gộp: 1C23TYY_00000075.jsonl\n",
      "✅ Gộp: 1C23TYY_00000079.jsonl\n",
      "✅ Gộp: 1C23TYY_00000080.jsonl\n",
      "✅ Gộp: 1C23TYY_00000085.jsonl\n",
      "✅ Gộp: 1C24TLT_00000533.jsonl\n",
      "✅ Gộp: 1C24TLT_00000547.jsonl\n",
      "✅ Gộp: 1C24TLT_00000752.jsonl\n",
      "✅ Gộp: 1C24TLT_00000775.jsonl\n",
      "✅ Gộp: 1C24TLT_00001672.jsonl\n",
      "✅ Gộp: 1C24TLT_00001688.jsonl\n",
      "✅ Gộp: 1C24TLT_00001888.jsonl\n",
      "✅ Gộp: 1C24TLT_00002304.jsonl\n",
      "✅ Gộp: 1C24TLT_00002330.jsonl\n",
      "✅ Gộp: 1C24TLT_00002842.jsonl\n",
      "\n",
      "🎉 Đã gộp xong file JSONL vào: /mnt/c/Users/Legion/Documents/jimmy tran/Automated-invoice-processing-system/LayoutLMV3/outputJSONL/layoutLMV3.jsonl\n"
     ]
    }
   ],
   "source": [
    "import os\n",
    "import json\n",
    "\n",
    "# === CẤU HÌNH ===\n",
    "input_folder = \"/mnt/c/Users/Legion/Documents/jimmy tran/Automated-invoice-processing-system/LayoutLMV3/dataset_single_line\"  # 📂 chứa nhiều file .jsonl, mỗi file 1 dòng JSON\n",
    "output_file = \"/mnt/c/Users/Legion/Documents/jimmy tran/Automated-invoice-processing-system/LayoutLMV3/outputJSONL/layoutLMV3.jsonl\"  # 📄 file gộp\n",
    "\n",
    "# === GỘP FILE ===\n",
    "with open(output_file, \"w\", encoding=\"utf-8\") as out_f:\n",
    "    for fname in os.listdir(input_folder):\n",
    "        if fname.endswith(\".jsonl\"):  # ✅ Sửa ở đây\n",
    "            try:\n",
    "                with open(os.path.join(input_folder, fname), \"r\", encoding=\"utf-8-sig\") as f:\n",
    "                    line = f.read().strip()\n",
    "                    if line:\n",
    "                        json.loads(line)  # Kiểm tra là JSON hợp lệ\n",
    "                        out_f.write(line + \"\\n\")\n",
    "                        print(f\"✅ Gộp: {fname}\")\n",
    "                    else:\n",
    "                        print(f\"⚠️ File rỗng: {fname}\")\n",
    "            except Exception as e:\n",
    "                print(f\"❌ Lỗi ở {fname}: {e}\")\n",
    "\n",
    "print(f\"\\n🎉 Đã gộp xong file JSONL vào: {output_file}\")\n"
   ]
  }
 ],
 "metadata": {
  "kernelspec": {
   "display_name": "erp",
   "language": "python",
   "name": "python3"
  },
  "language_info": {
   "codemirror_mode": {
    "name": "ipython",
    "version": 3
   },
   "file_extension": ".py",
   "mimetype": "text/x-python",
   "name": "python",
   "nbconvert_exporter": "python",
   "pygments_lexer": "ipython3",
   "version": "3.12.9"
  }
 },
 "nbformat": 4,
 "nbformat_minor": 5
}
