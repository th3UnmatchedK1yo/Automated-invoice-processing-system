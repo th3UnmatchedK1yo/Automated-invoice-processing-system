{
 "cells": [
  {
   "cell_type": "code",
   "execution_count": null,
   "id": "9b888deb",
   "metadata": {},
   "outputs": [],
   "source": [
    "import json\n",
    "\n",
    "input_path = \"457.json\"              # 👈 Đổi tên nếu cần\n",
    "output_path = \"457.jsonl\"            # 👈 File đầu ra\n",
    "\n",
    "with open(input_path, \"r\", encoding=\"utf-8\") as f:\n",
    "    data = json.load(f)\n",
    "\n",
    "with open(output_path, \"w\", encoding=\"utf-8\") as f:\n",
    "    json.dump(data, f, ensure_ascii=False)\n",
    "    f.write(\"\\n\")  # đảm bảo xuống dòng\n"
   ]
  }
 ],
 "metadata": {
  "language_info": {
   "name": "python"
  }
 },
 "nbformat": 4,
 "nbformat_minor": 5
}
