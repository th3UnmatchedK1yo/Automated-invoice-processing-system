{
 "cells": [
  {
   "cell_type": "code",
   "execution_count": 1,
   "id": "1af5dab3",
   "metadata": {},
   "outputs": [
    {
     "name": "stdout",
     "output_type": "stream",
     "text": [
      "✅ Đã chuyển 1C23TTN_00000332.json → 1C23TTN_00000332.jsonl\n",
      "✅ Đã chuyển 1C23TYY_00000007.json → 1C23TYY_00000007.jsonl\n",
      "✅ Đã chuyển 1C23TYY_00000010.json → 1C23TYY_00000010.jsonl\n",
      "✅ Đã chuyển 1C23TYY_00000014.json → 1C23TYY_00000014.jsonl\n",
      "✅ Đã chuyển 1C23TYY_00000015.json → 1C23TYY_00000015.jsonl\n",
      "✅ Đã chuyển 1C23TYY_00000020.json → 1C23TYY_00000020.jsonl\n",
      "✅ Đã chuyển 1C23TYY_00000021.json → 1C23TYY_00000021.jsonl\n",
      "✅ Đã chuyển 1C23TYY_00000025.json → 1C23TYY_00000025.jsonl\n",
      "✅ Đã chuyển 1C23TYY_00000037.json → 1C23TYY_00000037.jsonl\n",
      "✅ Đã chuyển 1C23TYY_00000038.json → 1C23TYY_00000038.jsonl\n",
      "✅ Đã chuyển 1C23TYY_00000059.json → 1C23TYY_00000059.jsonl\n",
      "✅ Đã chuyển 1C23TYY_00000075.json → 1C23TYY_00000075.jsonl\n",
      "✅ Đã chuyển 1C23TYY_00000079.json → 1C23TYY_00000079.jsonl\n",
      "✅ Đã chuyển 1C23TYY_00000080.json → 1C23TYY_00000080.jsonl\n",
      "✅ Đã chuyển 1C23TYY_00000085.json → 1C23TYY_00000085.jsonl\n",
      "✅ Đã chuyển 1C24TLT_00000533.json → 1C24TLT_00000533.jsonl\n",
      "✅ Đã chuyển 1C24TLT_00000547.json → 1C24TLT_00000547.jsonl\n",
      "✅ Đã chuyển 1C24TLT_00000752.json → 1C24TLT_00000752.jsonl\n",
      "✅ Đã chuyển 1C24TLT_00000775.json → 1C24TLT_00000775.jsonl\n",
      "✅ Đã chuyển 1C24TLT_00001672.json → 1C24TLT_00001672.jsonl\n",
      "✅ Đã chuyển 1C24TLT_00001688.json → 1C24TLT_00001688.jsonl\n",
      "✅ Đã chuyển 1C24TLT_00001888.json → 1C24TLT_00001888.jsonl\n",
      "✅ Đã chuyển 1C24TLT_00002304.json → 1C24TLT_00002304.jsonl\n",
      "✅ Đã chuyển 1C24TLT_00002330.json → 1C24TLT_00002330.jsonl\n",
      "✅ Đã chuyển 1C24TLT_00002842.json → 1C24TLT_00002842.jsonl\n"
     ]
    }
   ],
   "source": [
    "import os\n",
    "import json\n",
    "\n",
    "# === CẤU HÌNH PATH ===\n",
    "input_folder = \"/mnt/c/Users/Legion/Documents/jimmy tran/Automated-invoice-processing-system/LayoutLMV3/dataset\"       # 💡 Thư mục chứa file .json gốc\n",
    "output_folder = \"/mnt/c/Users/Legion/Documents/jimmy tran/Automated-invoice-processing-system/LayoutLMV3/dataset_single_line\"     # 💡 Thư mục để lưu file .jsonl\n",
    "\n",
    "# Tạo thư mục output nếu chưa tồn tại\n",
    "os.makedirs(output_folder, exist_ok=True)\n",
    "\n",
    "# Lặp qua từng file JSON\n",
    "for fname in os.listdir(input_folder):\n",
    "    if fname.endswith(\".json\"):\n",
    "        input_path = os.path.join(input_folder, fname)\n",
    "        output_path = os.path.join(output_folder, fname.replace(\".json\", \".jsonl\"))\n",
    "\n",
    "        with open(input_path, \"r\", encoding=\"utf-8\") as f_in:\n",
    "            try:\n",
    "                data = json.load(f_in)\n",
    "                with open(output_path, \"w\", encoding=\"utf-8\") as f_out:\n",
    "                    json.dump(data, f_out, ensure_ascii=False)\n",
    "                    f_out.write(\"\\n\")\n",
    "                print(f\"✅ Đã chuyển {fname} → {os.path.basename(output_path)}\")\n",
    "            except Exception as e:\n",
    "                print(f\"❌ Lỗi khi xử lý {fname}: {e}\")\n"
   ]
  }
 ],
 "metadata": {
  "kernelspec": {
   "display_name": "erp",
   "language": "python",
   "name": "python3"
  },
  "language_info": {
   "codemirror_mode": {
    "name": "ipython",
    "version": 3
   },
   "file_extension": ".py",
   "mimetype": "text/x-python",
   "name": "python",
   "nbconvert_exporter": "python",
   "pygments_lexer": "ipython3",
   "version": "3.12.9"
  }
 },
 "nbformat": 4,
 "nbformat_minor": 5
}
