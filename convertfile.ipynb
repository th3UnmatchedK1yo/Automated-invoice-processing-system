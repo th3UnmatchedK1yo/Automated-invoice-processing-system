{
 "cells": [
  {
   "cell_type": "code",
   "execution_count": 6,
   "id": "d5fbf6c8",
   "metadata": {},
   "outputs": [
    {
     "name": "stdout",
     "output_type": "stream",
     "text": [
      "✅ Done! Output saved to: /mnt/c/Users/Legion/Documents/jimmy tran/Automated-invoice-processing-system/data/labeled_invoices_fixed.jsonl\n"
     ]
    }
   ],
   "source": [
    "import json\n",
    "import re\n",
    "\n",
    "# Input/output file paths\n",
    "input_path = \"/mnt/c/Users/Legion/Documents/jimmy tran/Automated-invoice-processing-system/data/invoices.jsonl\"\n",
    "output_path = \"/mnt/c/Users/Legion/Documents/jimmy tran/Automated-invoice-processing-system/data/labeled_invoices_fixed.jsonl\"\n",
    "\n",
    "# Regex patterns supporting Vietnamese + optional English + full prefix included\n",
    "label_patterns = [\n",
    "    (r\"(Đơn vị bán hàng:\\s*CÔNG TY[^\\n]+)\", \"COMPANY_NAME\"),\n",
    "    (r\"^(CÔNG TY[^\\n]+)$\", \"COMPANY_NAME\"),\n",
    "    (r\"(Mã số thuế\\s*(\\(.*?\\))?\\s*:\\s*\\d+)\", \"TAX_CODE\"),\n",
    "    (r\"(Ký hiệu\\s*(\\(.*?\\))?\\s*:\\s*[A-Z0-9]+)\", \"SERIAL\"),\n",
    "    (r\"(Số\\s*(\\(.*?\\))?\\s*:\\s*\\d+)\", \"INVOICE_NO\"),\n",
    "    (r\"(Tên đơn vị\\s*(\\(.*?\\))?\\s*:\\s*[^\\n]+)\", \"BUYER_NAME\"),\n",
    "    (r\"(Hình thức thanh toán\\s*(\\(.*?\\))?\\s*:\\s*(TM/CK|Tiền mặt|Chuyển khoản))\", \"PAYMENT_METHOD\"),\n",
    "    (r\"(Cộng tiền hàng\\s*(\\(.*?\\))?\\s*:\\s*[\\d\\.]+)\", \"TOTAL_AMOUNT\"),\n",
    "    (r\"(Tiền thuế GTGT\\s*(\\(.*?\\))?\\s*:\\s*[\\d\\.]+)\", \"VAT_AMOUNT\"),\n",
    "    (r\"(Tổng tiền thanh toán\\s*(\\(.*?\\))?\\s*:\\s*[\\d\\.]+)\", \"TOTAL_PAYMENT\"),\n",
    "]\n",
    "\n",
    "# Processing\n",
    "output_data = []\n",
    "\n",
    "with open(input_path, \"r\", encoding=\"utf-8\") as f:\n",
    "    for line in f:\n",
    "        data = json.loads(line)\n",
    "        text = data[\"text\"]\n",
    "        labels = []\n",
    "        matched_tax_codes = []\n",
    "\n",
    "        for pattern, label in label_patterns:\n",
    "            for match in re.finditer(pattern, text, flags=re.MULTILINE):\n",
    "                full_span = match.group(1)\n",
    "                start = match.start(1)\n",
    "                end = match.end(1)\n",
    "\n",
    "                if label == \"TAX_CODE\":\n",
    "                    matched_tax_codes.append((start, end))\n",
    "                else:\n",
    "                    labels.append([start, end, label])\n",
    "\n",
    "        # Assign TAX_CODEs explicitly\n",
    "        if len(matched_tax_codes) > 0:\n",
    "            labels.append([matched_tax_codes[0][0], matched_tax_codes[0][1], \"SELLER_TAX_CODE\"])\n",
    "        if len(matched_tax_codes) > 1:\n",
    "            labels.append([matched_tax_codes[1][0], matched_tax_codes[1][1], \"BUYER_TAX_CODE\"])\n",
    "\n",
    "        data[\"label\"] = labels\n",
    "        output_data.append(data)\n",
    "\n",
    "# Write labeled output\n",
    "with open(output_path, \"w\", encoding=\"utf-8\") as fout:\n",
    "    for item in output_data:\n",
    "        fout.write(json.dumps(item, ensure_ascii=False) + \"\\n\")\n",
    "\n",
    "print(f\"✅ Done! Output saved to: {output_path}\")\n"
   ]
  }
 ],
 "metadata": {
  "kernelspec": {
   "display_name": "erp",
   "language": "python",
   "name": "python3"
  },
  "language_info": {
   "codemirror_mode": {
    "name": "ipython",
    "version": 3
   },
   "file_extension": ".py",
   "mimetype": "text/x-python",
   "name": "python",
   "nbconvert_exporter": "python",
   "pygments_lexer": "ipython3",
   "version": "3.12.9"
  }
 },
 "nbformat": 4,
 "nbformat_minor": 5
}
