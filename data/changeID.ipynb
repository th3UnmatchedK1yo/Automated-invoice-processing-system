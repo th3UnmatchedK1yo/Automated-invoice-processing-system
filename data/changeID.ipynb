{
 "cells": [
  {
   "cell_type": "code",
   "execution_count": 2,
   "id": "d8b4ed33",
   "metadata": {},
   "outputs": [],
   "source": [
    "import json\n",
    "\n",
    "def extract_serial_and_invoice(text, labels):\n",
    "    serial = invoice_no = None\n",
    "    for start, end, label in labels:\n",
    "        if label == \"SERIAL\":\n",
    "            serial = text[start:end].strip()\n",
    "        elif label == \"INVOICE_NO\":\n",
    "            invoice_no = text[start:end].strip()\n",
    "    return serial, invoice_no\n",
    "\n",
    "input_path = \"/mnt/c/Users/Legion/Documents/jimmy tran/Automated-invoice-processing-system/data/labeled_invoices_fixed.jsonl\"   # Replace with your actual file path\n",
    "output_path = \"output_with_custom_ids.jsonl\"\n",
    "\n",
    "with open(input_path, \"r\", encoding=\"utf-8\") as infile, open(output_path, \"w\", encoding=\"utf-8\") as outfile:\n",
    "    for line in infile:\n",
    "        if not line.strip():\n",
    "            continue\n",
    "        entry = json.loads(line)\n",
    "        serial, invoice_no = extract_serial_and_invoice(entry[\"text\"], entry[\"label\"])\n",
    "        if serial and invoice_no:\n",
    "            entry[\"id\"] = f\"{serial}_{invoice_no}\"\n",
    "        else:\n",
    "            print(f\"⚠️ Missing SERIAL or INVOICE_NO in entry: {entry.get('id')}\")\n",
    "        outfile.write(json.dumps(entry, ensure_ascii=False) + \"\\n\")\n"
   ]
  }
 ],
 "metadata": {
  "kernelspec": {
   "display_name": "erp",
   "language": "python",
   "name": "python3"
  },
  "language_info": {
   "codemirror_mode": {
    "name": "ipython",
    "version": 3
   },
   "file_extension": ".py",
   "mimetype": "text/x-python",
   "name": "python",
   "nbconvert_exporter": "python",
   "pygments_lexer": "ipython3",
   "version": "3.12.9"
  }
 },
 "nbformat": 4,
 "nbformat_minor": 5
}
