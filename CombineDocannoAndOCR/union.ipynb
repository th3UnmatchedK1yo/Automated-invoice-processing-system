{
 "cells": [
  {
   "cell_type": "code",
   "execution_count": 1,
   "id": "3e41f50e",
   "metadata": {},
   "outputs": [
    {
     "name": "stdout",
     "output_type": "stream",
     "text": [
      "✅ Đã tạo xong UNION.\n"
     ]
    }
   ],
   "source": [
    "import os\n",
    "import json\n",
    "\n",
    "LABEL_FILE = \"/mnt/c/Users/Legion/Documents/jimmy tran/Automated-invoice-processing-system/labeled_invoices_fixed.jsonl\"\n",
    "OCR_FOLDER = \"/mnt/c/Users/Legion/Documents/jimmy tran/Automated-invoice-processing-system/easyOCR_OUTPUT\"\n",
    "OUTPUT_FILE = \"layoutlmv3_union.jsonl\"\n",
    "\n",
    "# Bước 1: Load toàn bộ nhãn\n",
    "with open(LABEL_FILE, \"r\", encoding=\"utf-8\") as f:\n",
    "    label_lines = [json.loads(line) for line in f]\n",
    "\n",
    "# Bước 2: Lặp qua toàn bộ file OCR\n",
    "with open(OUTPUT_FILE, \"w\", encoding=\"utf-8\") as out_f:\n",
    "    for idx, filename in enumerate(sorted(os.listdir(OCR_FOLDER))):\n",
    "        if not filename.endswith(\".json\"):\n",
    "            continue\n",
    "        invoice_id = filename.replace(\".json\", \"\")\n",
    "        ocr_path = os.path.join(OCR_FOLDER, filename)\n",
    "\n",
    "        if idx >= len(label_lines):\n",
    "            print(f\"❌ Không tìm thấy label tương ứng cho {invoice_id}\")\n",
    "            continue\n",
    "\n",
    "        label_obj = label_lines[idx]\n",
    "        full_text = label_obj[\"text\"]\n",
    "        spans = label_obj[\"label\"]\n",
    "\n",
    "        char_labels = [\"O\"] * len(full_text)\n",
    "        for start, end, tag in spans:\n",
    "            char_labels[start] = f\"B-{tag}\"\n",
    "            for i in range(start + 1, end):\n",
    "                if i < len(char_labels):\n",
    "                    char_labels[i] = f\"I-{tag}\"\n",
    "\n",
    "        with open(ocr_path, \"r\", encoding=\"utf-8\") as f:\n",
    "            ocr_tokens = json.load(f)\n",
    "\n",
    "        words, bboxes, labels = [], [], []\n",
    "        offset = 0\n",
    "        for token in ocr_tokens:\n",
    "            word = token[\"text\"].strip()\n",
    "            if not word:\n",
    "                continue\n",
    "            idx_in_text = full_text.find(word, offset)\n",
    "            if idx_in_text != -1:\n",
    "                label = char_labels[idx_in_text]\n",
    "                offset = idx_in_text + len(word)\n",
    "            else:\n",
    "                label = \"O\"\n",
    "            words.append(word)\n",
    "            bboxes.append(token[\"bbox\"])\n",
    "            labels.append(label)\n",
    "\n",
    "        out_f.write(json.dumps({\n",
    "            \"id\": invoice_id,\n",
    "            \"words\": words,\n",
    "            \"bboxes\": bboxes,\n",
    "            \"labels\": labels,\n",
    "            \"image_path\": f\"converted_pngs/{invoice_id}.png\"\n",
    "        }, ensure_ascii=False) + \"\\n\")\n",
    "\n",
    "print(\"✅ Đã tạo xong UNION.\")\n"
   ]
  }
 ],
 "metadata": {
  "kernelspec": {
   "display_name": "erp",
   "language": "python",
   "name": "python3"
  },
  "language_info": {
   "codemirror_mode": {
    "name": "ipython",
    "version": 3
   },
   "file_extension": ".py",
   "mimetype": "text/x-python",
   "name": "python",
   "nbconvert_exporter": "python",
   "pygments_lexer": "ipython3",
   "version": "3.12.9"
  }
 },
 "nbformat": 4,
 "nbformat_minor": 5
}
