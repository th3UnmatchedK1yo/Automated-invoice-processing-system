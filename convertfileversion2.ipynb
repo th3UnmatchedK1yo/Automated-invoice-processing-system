{
 "cells": [
  {
   "cell_type": "code",
   "execution_count": 10,
   "id": "e831f750",
   "metadata": {},
   "outputs": [
    {
     "name": "stdout",
     "output_type": "stream",
     "text": [
      "✅ BIO tagging done! Saved to: /mnt/c/Users/Legion/Documents/jimmy tran/Automated-invoice-processing-system/data/phobert_bio_format.txt\n"
     ]
    }
   ],
   "source": [
    "import json\n",
    "from transformers import AutoTokenizer\n",
    "\n",
    "# Use any Fast tokenizer with offset_mapping support (for alignment only)\n",
    "tokenizer = AutoTokenizer.from_pretrained(\"xlm-roberta-base\", use_fast=True)\n",
    "\n",
    "# === Config ===\n",
    "input_path = \"/mnt/c/Users/Legion/Documents/jimmy tran/Automated-invoice-processing-system/data/invoices.jsonl\"\n",
    "output_path = \"/mnt/c/Users/Legion/Documents/jimmy tran/Automated-invoice-processing-system/data/phobert_bio_format.txt\"\n",
    "\n",
    "def char_span_to_bio(text, spans):\n",
    "    encoded = tokenizer(text, return_offsets_mapping=True, add_special_tokens=False)\n",
    "    tokens = tokenizer.convert_ids_to_tokens(encoded['input_ids'])\n",
    "    offsets = encoded['offset_mapping']\n",
    "\n",
    "    tags = [\"O\"] * len(tokens)\n",
    "\n",
    "    for start, end, label in spans:\n",
    "        tagged = False\n",
    "        for i, (tok_start, tok_end) in enumerate(offsets):\n",
    "            if tok_start < end and tok_end > start:  # ← FIXED overlap check\n",
    "                if not tagged:\n",
    "                    tags[i] = f\"B-{label}\"\n",
    "                    tagged = True\n",
    "                else:\n",
    "                    tags[i] = f\"I-{label}\"\n",
    "\n",
    "    return list(zip(tokens, tags))\n",
    "\n",
    "\n",
    "# Convert all lines\n",
    "bio_lines = []\n",
    "\n",
    "with open(input_path, \"r\", encoding=\"utf-8\") as f:\n",
    "    for line in f:\n",
    "        data = json.loads(line)\n",
    "        text = data[\"text\"]\n",
    "        spans = data.get(\"label\", [])\n",
    "        token_tags = char_span_to_bio(text, spans)\n",
    "\n",
    "        for token, tag in token_tags:\n",
    "            bio_lines.append(f\"{token} {tag}\")\n",
    "        bio_lines.append(\"\")\n",
    "\n",
    "with open(output_path, \"w\", encoding=\"utf-8\") as out:\n",
    "    out.write(\"\\n\".join(bio_lines))\n",
    "\n",
    "print(f\"✅ BIO tagging done! Saved to: {output_path}\")\n"
   ]
  }
 ],
 "metadata": {
  "kernelspec": {
   "display_name": "erp",
   "language": "python",
   "name": "python3"
  },
  "language_info": {
   "codemirror_mode": {
    "name": "ipython",
    "version": 3
   },
   "file_extension": ".py",
   "mimetype": "text/x-python",
   "name": "python",
   "nbconvert_exporter": "python",
   "pygments_lexer": "ipython3",
   "version": "3.12.9"
  }
 },
 "nbformat": 4,
 "nbformat_minor": 5
}
