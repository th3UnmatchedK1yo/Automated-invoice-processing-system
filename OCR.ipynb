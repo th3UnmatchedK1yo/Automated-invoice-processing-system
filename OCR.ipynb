{
 "cells": [
  {
   "cell_type": "code",
   "execution_count": 5,
   "metadata": {},
   "outputs": [
    {
     "name": "stdout",
     "output_type": "stream",
     "text": [
      "Extracted Text:\n",
      "Invoice\n",
      "\n",
      "Invoice No. :\n",
      "\n",
      "Company Name:\n",
      "Address:\n",
      "\n",
      "Phone No.:\n",
      "Email ID:\n",
      "GSTIN:\n",
      "\n",
      "Bill To:\n",
      "\n",
      "Name: |\n",
      "\n",
      "Address: [Date:\n",
      "Customer No.:\n",
      "\n",
      "Phone No.: Reference:\n",
      "\n",
      "Email ID: Tax Event Date:\n",
      "\n",
      "GSTIN:\n",
      "\n",
      "Reason:\n",
      "\n",
      "Net Amount:\n",
      "Output Tax\n",
      "Output Tax\n",
      "\n",
      "Total Amount:\n",
      "\n",
      "Seal & Signature\n",
      "\n",
      "Thanks for business with us!!! Please visit us again !!!\n",
      "\n",
      "\n"
     ]
    }
   ],
   "source": [
    "from PIL import Image\n",
    "import pytesseract\n",
    "\n",
    "# Path to your JPG image\n",
    "image_path = 'dataset/Sap-Invoice-Format-01_page-0001.jpg'  # Update this path\n",
    "\n",
    "# Open the image using PIL\n",
    "img = Image.open(image_path)\n",
    "\n",
    "# Perform OCR to extract text\n",
    "extracted_text = pytesseract.image_to_string(img)\n",
    "\n",
    "# Print the extracted text\n",
    "print(\"Extracted Text:\")\n",
    "print(extracted_text)\n"
   ]
  }
 ],
 "metadata": {
  "kernelspec": {
   "display_name": "erp",
   "language": "python",
   "name": "python3"
  },
  "language_info": {
   "codemirror_mode": {
    "name": "ipython",
    "version": 3
   },
   "file_extension": ".py",
   "mimetype": "text/x-python",
   "name": "python",
   "nbconvert_exporter": "python",
   "pygments_lexer": "ipython3",
   "version": "3.12.9"
  }
 },
 "nbformat": 4,
 "nbformat_minor": 2
}
