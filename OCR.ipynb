{
 "cells": [
  {
   "cell_type": "code",
   "execution_count": 5,
   "metadata": {},
   "outputs": [
    {
     "name": "stdout",
     "output_type": "stream",
     "text": [
      "Extracted Text:\n",
      "Invoice\n",
      "\n",
      "Invoice No. :\n",
      "\n",
      "Company Name:\n",
      "Address:\n",
      "\n",
      "Phone No.:\n",
      "Email ID:\n",
      "GSTIN:\n",
      "\n",
      "Bill To:\n",
      "\n",
      "Name: |\n",
      "\n",
      "Address: [Date:\n",
      "Customer No.:\n",
      "\n",
      "Phone No.: Reference:\n",
      "\n",
      "Email ID: Tax Event Date:\n",
      "\n",
      "GSTIN:\n",
      "\n",
      "Reason:\n",
      "\n",
      "Net Amount:\n",
      "Output Tax\n",
      "Output Tax\n",
      "\n",
      "Total Amount:\n",
      "\n",
      "Seal & Signature\n",
      "\n",
      "Thanks for business with us!!! Please visit us again !!!\n",
      "\n",
      "\n"
     ]
    }
   ],
   "source": [
    "from PIL import Image\n",
    "import pytesseract\n",
    "\n",
    "# Path to your JPG image\n",
    "image_path = 'dataset/Sap-Invoice-Format-01_page-0001.jpg'  # Update this path\n",
    "\n",
    "# Open the image using PIL\n",
    "img = Image.open(image_path)\n",
    "\n",
    "# Perform OCR to extract text\n",
    "extracted_text = pytesseract.image_to_string(img)\n",
    "\n",
    "# Print the extracted text\n",
    "print(\"Extracted Text:\")\n",
    "print(extracted_text)\n"
   ]
  },
  {
   "cell_type": "markdown",
   "metadata": {},
   "source": [
    "## verify installation ##"
   ]
  },
  {
   "cell_type": "code",
   "execution_count": 6,
   "metadata": {},
   "outputs": [],
   "source": [
    "import spacy\n",
    "\n",
    "# Load the installed language model\n",
    "nlp = spacy.load(\"en_core_web_sm\")\n",
    "\n",
    "# Test with a simple text\n",
    "text = \"Tesseract OCR is amazing for text extraction from images!\"\n",
    "doc = nlp(text)\n",
    "\n",
    "# Print the named entities (if any) from the text\n",
    "for ent in doc.ents:\n",
    "    print(ent.text, ent.label_)\n"
   ]
  },
  {
   "cell_type": "markdown",
   "metadata": {},
   "source": [
    "## combine ##"
   ]
  },
  {
   "cell_type": "code",
   "execution_count": 7,
   "metadata": {},
   "outputs": [
    {
     "name": "stdout",
     "output_type": "stream",
     "text": [
      "Extracted Text from OCR:\n",
      "Invoice\n",
      "\n",
      "Invoice No. :\n",
      "\n",
      "Company Name:\n",
      "Address:\n",
      "\n",
      "Phone No.:\n",
      "Email ID:\n",
      "GSTIN:\n",
      "\n",
      "Bill To:\n",
      "\n",
      "Name: |\n",
      "\n",
      "Address: [Date:\n",
      "Customer No.:\n",
      "\n",
      "Phone No.: Reference:\n",
      "\n",
      "Email ID: Tax Event Date:\n",
      "\n",
      "GSTIN:\n",
      "\n",
      "Reason:\n",
      "\n",
      "Net Amount:\n",
      "Output Tax\n",
      "Output Tax\n",
      "\n",
      "Total Amount:\n",
      "\n",
      "Seal & Signature\n",
      "\n",
      "Thanks for business with us!!! Please visit us again !!!\n",
      "\n",
      "\n",
      "\n",
      "Entities Extracted by spaCy:\n",
      "Invoice\n",
      "\n",
      "Invoice No (ORG)\n",
      "GSTIN (PERSON)\n",
      "Bill (PERSON)\n",
      "GSTIN (PERSON)\n"
     ]
    }
   ],
   "source": [
    "from PIL import Image\n",
    "import pytesseract\n",
    "import spacy\n",
    "\n",
    "# Load the spaCy model\n",
    "nlp = spacy.load(\"en_core_web_sm\")\n",
    "\n",
    "# Path to your JPG image\n",
    "image_path = 'dataset/Sap-Invoice-Format-01_page-0001.jpg'  # Update this path\n",
    "\n",
    "# Open the image using PIL\n",
    "img = Image.open(image_path)\n",
    "\n",
    "# Perform OCR to extract text\n",
    "extracted_text = pytesseract.image_to_string(img)\n",
    "\n",
    "# Print the extracted text from OCR\n",
    "print(\"Extracted Text from OCR:\")\n",
    "print(extracted_text)\n",
    "\n",
    "# Now process the extracted text with spaCy\n",
    "doc = nlp(extracted_text)\n",
    "\n",
    "# Extract and print named entities\n",
    "print(\"\\nEntities Extracted by spaCy:\")\n",
    "for ent in doc.ents:\n",
    "    print(f\"{ent.text} ({ent.label_})\")\n"
   ]
  }
 ],
 "metadata": {
  "kernelspec": {
   "display_name": "erp",
   "language": "python",
   "name": "python3"
  },
  "language_info": {
   "codemirror_mode": {
    "name": "ipython",
    "version": 3
   },
   "file_extension": ".py",
   "mimetype": "text/x-python",
   "name": "python",
   "nbconvert_exporter": "python",
   "pygments_lexer": "ipython3",
   "version": "3.12.9"
  }
 },
 "nbformat": 4,
 "nbformat_minor": 2
}
