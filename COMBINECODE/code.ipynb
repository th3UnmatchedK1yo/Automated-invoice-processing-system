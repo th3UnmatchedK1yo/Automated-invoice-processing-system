{
 "cells": [
  {
   "cell_type": "code",
   "execution_count": 2,
   "id": "94dba927",
   "metadata": {},
   "outputs": [
    {
     "name": "stdout",
     "output_type": "stream",
     "text": [
      "✔ 457_layoutlmv3.json\n"
     ]
    }
   ],
   "source": [
    "from pathlib import Path, PurePath\n",
    "import json, re, glob\n",
    "from PIL import Image\n",
    "\n",
    "def scale(b, W, H): return [round(b[0]/W*1000), round(b[1]/H*1000),\n",
    "                             round(b[2]/W*1000), round(b[3]/H*1000)]\n",
    "\n",
    "def load_anno(path_json):\n",
    "    raw = json.loads(Path(path_json).read_text(encoding=\"utf-8\"))\n",
    "    spans = {(s,e):lab for s,e,lab in raw[\"label\"]}\n",
    "    return raw, spans\n",
    "\n",
    "def convert_one(raw_json, ocr_json, image_path=None):\n",
    "    raw, spans = load_anno(raw_json)\n",
    "    ocr = json.loads(Path(ocr_json).read_text())\n",
    "    W, H = (2480, 3508)\n",
    "\n",
    "    if image_path is not None:\n",
    "        try:\n",
    "            W, H = Image.open(image_path).size\n",
    "        except:\n",
    "            pass\n",
    "\n",
    "    words, bboxes, labels = [], [], []\n",
    "    cursor = 0\n",
    "    for item in ocr:\n",
    "        for tok in item[\"text\"].split():\n",
    "            m = re.search(re.escape(tok), raw[\"text\"][cursor:], flags=re.I)\n",
    "            lab = \"O\"\n",
    "            if m:\n",
    "                s = cursor + m.start()\n",
    "                e = s + len(tok)\n",
    "                for (a, b), t in spans.items():\n",
    "                    if a <= s < b:\n",
    "                        lab = \"B-\" + t if s == a else \"I-\" + t\n",
    "                        break\n",
    "                cursor = e\n",
    "            words.append(tok)\n",
    "            bboxes.append(scale(item[\"bbox\"], W, H))\n",
    "            labels.append(lab)\n",
    "\n",
    "    result = dict(id=raw[\"id\"], words=words, bboxes=bboxes, labels=labels)\n",
    "    if image_path is not None:\n",
    "        result[\"image_path\"] = image_path\n",
    "\n",
    "    return result\n",
    "\n",
    "\n",
    "# -------- batch convert ----------\n",
    "IN_DIR   = Path(\"/mnt/c/Users/Legion/Documents/jimmy tran/Automated-invoice-processing-system/COMBINECODE/samples\")              # chứa *.text.json & *.ocr.json\n",
    "OUT_DIR  = Path(\"/mnt/c/Users/Legion/Documents/jimmy tran/Automated-invoice-processing-system/COMBINECODE/converted\"); OUT_DIR.mkdir(exist_ok=True)\n",
    "\n",
    "for anno_path in IN_DIR.glob(\"*_text.json\"):\n",
    "    ocr_path = anno_path.with_name(anno_path.stem.replace(\"_text\",\"_ocr\")+\".json\")\n",
    "    if not ocr_path.exists(): continue\n",
    "    conv = convert_one(anno_path, ocr_path)\n",
    "    out = OUT_DIR / f\"{conv['id']}_layoutlmv3.json\"\n",
    "    out.write_text(json.dumps(conv, ensure_ascii=False, indent=2))\n",
    "    print(\"✔\", out.name)\n"
   ]
  }
 ],
 "metadata": {
  "kernelspec": {
   "display_name": "erp",
   "language": "python",
   "name": "python3"
  },
  "language_info": {
   "codemirror_mode": {
    "name": "ipython",
    "version": 3
   },
   "file_extension": ".py",
   "mimetype": "text/x-python",
   "name": "python",
   "nbconvert_exporter": "python",
   "pygments_lexer": "ipython3",
   "version": "3.12.9"
  }
 },
 "nbformat": 4,
 "nbformat_minor": 5
}
