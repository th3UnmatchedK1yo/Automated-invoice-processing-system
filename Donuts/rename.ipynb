{
 "cells": [
  {
   "cell_type": "code",
   "execution_count": 2,
   "id": "e3636e25",
   "metadata": {},
   "outputs": [
    {
     "name": "stdout",
     "output_type": "stream",
     "text": [
      "✅ Updated 65 entries → saved to /mnt/c/Users/Legion/Documents/jimmy tran/Automated-invoice-processing-system/Donuts/data_mhuy/mhuy_donut_rename.jsonl\n"
     ]
    }
   ],
   "source": [
    "import os\n",
    "import json\n",
    "\n",
    "# 1. Path to your real images\n",
    "image_dir = \"/mnt/c/Users/Legion/Documents/jimmy tran/Automated-invoice-processing-system/Donuts/data_mhuy/converted_pngs\"\n",
    "image_files = sorted([f for f in os.listdir(image_dir) if f.lower().endswith(('.jpg', '.jpeg', '.png'))])\n",
    "\n",
    "# 2. Path to JSONL file that needs updating\n",
    "jsonl_path = \"/mnt/c/Users/Legion/Documents/jimmy tran/Automated-invoice-processing-system/Donuts/data_mhuy/mhuy_donut.jsonl\"  # ← change to your input JSONL\n",
    "output_path = \"/mnt/c/Users/Legion/Documents/jimmy tran/Automated-invoice-processing-system/Donuts/data_mhuy/mhuy_donut_rename.jsonl\"\n",
    "\n",
    "# 3. Read JSONL\n",
    "with open(jsonl_path, encoding=\"utf-8\") as f:\n",
    "    lines = [json.loads(line) for line in f]\n",
    "\n",
    "# 4. Replace \"file_name\"\n",
    "if len(image_files) < len(lines):\n",
    "    raise ValueError(f\"❌ Not enough image files ({len(image_files)}) for {len(lines)} JSON lines\")\n",
    "\n",
    "for i, entry in enumerate(lines):\n",
    "    entry[\"file_name\"] = image_files[i]  # match by order\n",
    "\n",
    "# 5. Write updated JSONL\n",
    "with open(output_path, \"w\", encoding=\"utf-8\") as f:\n",
    "    for entry in lines:\n",
    "        json.dump(entry, f, ensure_ascii=False)\n",
    "        f.write(\"\\n\")\n",
    "\n",
    "print(f\"✅ Updated {len(lines)} entries → saved to {output_path}\")\n"
   ]
  }
 ],
 "metadata": {
  "kernelspec": {
   "display_name": "erp",
   "language": "python",
   "name": "python3"
  },
  "language_info": {
   "codemirror_mode": {
    "name": "ipython",
    "version": 3
   },
   "file_extension": ".py",
   "mimetype": "text/x-python",
   "name": "python",
   "nbconvert_exporter": "python",
   "pygments_lexer": "ipython3",
   "version": "3.12.9"
  }
 },
 "nbformat": 4,
 "nbformat_minor": 5
}
