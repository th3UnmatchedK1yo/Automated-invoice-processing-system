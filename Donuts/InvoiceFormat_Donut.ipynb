{
 "cells": [
  {
   "cell_type": "code",
   "execution_count": 1,
   "id": "6b07d473",
   "metadata": {},
   "outputs": [
    {
     "name": "stderr",
     "output_type": "stream",
     "text": [
      "Using a slow image processor as `use_fast` is unset and a slow processor was saved with this model. `use_fast=True` will be the default behavior in v4.52, even if the model was saved with a slow processor. This will result in minor differences in outputs. You'll still be able to use a slow processor with `use_fast=False`.\n"
     ]
    }
   ],
   "source": [
    "import json\n",
    "from transformers import DonutProcessor\n",
    "\n",
    "processor = DonutProcessor.from_pretrained(\"naver-clova-ix/donut-base\")\n"
   ]
  },
  {
   "cell_type": "code",
   "execution_count": 2,
   "id": "af1cbd31",
   "metadata": {},
   "outputs": [],
   "source": [
    "# Ưu tiên giữ các field quan trọng giai đoạn 1\n",
    "FIELD_PRIORITY = [\"COMPANY_NAME\", \"SELLER_TAX_CODE\", \"TOTAL_AMOUNT\", \"TOTAL_PAYMENT\"]\n",
    "\n",
    "# Mapping sang tag ngắn hơn nếu muốn\n",
    "TAG_MAP = {\n",
    "    \"COMPANY_NAME\": \"company\",\n",
    "    \"SELLER_TAX_CODE\": \"tax\",\n",
    "    \"TOTAL_AMOUNT\": \"subtotal\",\n",
    "    \"TOTAL_PAYMENT\": \"total\"\n",
    "}\n",
    "\n",
    "def extract_fields(example, field_order):\n",
    "    text = example[\"text\"]\n",
    "    fields = {}\n",
    "    for start, end, label in example[\"label\"]:\n",
    "        if label in field_order and label not in fields:\n",
    "            val = text[start:end].strip()\n",
    "            fields[label] = val\n",
    "    return fields\n",
    "\n",
    "def to_donut_label(fields, field_order):\n",
    "    label = \"<s_invoices>\"\n",
    "    for key in field_order:\n",
    "        if key in fields:\n",
    "            tag = TAG_MAP.get(key, key.lower())\n",
    "            label += f\"<{tag}>{fields[key]}</{tag}>\"\n",
    "    label += \"<e_invoices>\"\n",
    "    return label\n",
    "\n",
    "def token_length(label_str):\n",
    "    return len(processor.tokenizer(label_str, add_special_tokens=False).input_ids)\n"
   ]
  },
  {
   "cell_type": "code",
   "execution_count": 3,
   "id": "8033e17f",
   "metadata": {},
   "outputs": [],
   "source": [
    "def convert_to_donut_jsonl(input_file, output_file, max_token_len=600):\n",
    "    with open(input_file, encoding=\"utf-8\") as f:\n",
    "        data = [json.loads(line) for line in f]\n",
    "\n",
    "    result = []\n",
    "    for i, ex in enumerate(data):\n",
    "        temp_fields = FIELD_PRIORITY.copy()\n",
    "        while temp_fields:\n",
    "            fields = extract_fields(ex, temp_fields)\n",
    "            label_str = to_donut_label(fields, temp_fields)\n",
    "            length = token_length(label_str)\n",
    "            if length <= max_token_len:\n",
    "                break\n",
    "            temp_fields = temp_fields[:-1]  # Cắt bớt field cuối nếu quá dài\n",
    "\n",
    "        result.append({\n",
    "            \"file_name\": f\"invoice_{i+1:05}.jpg\",  # sửa tên nếu cần\n",
    "            \"label\": label_str\n",
    "        })\n",
    "\n",
    "    with open(output_file, \"w\", encoding=\"utf-8\") as f:\n",
    "        for row in result:\n",
    "            json.dump(row, f, ensure_ascii=False)\n",
    "            f.write(\"\\n\")\n",
    "    print(f\"✅ Saved {len(result)} samples to {output_file}\")\n"
   ]
  },
  {
   "cell_type": "code",
   "execution_count": 4,
   "id": "de037610",
   "metadata": {},
   "outputs": [
    {
     "name": "stdout",
     "output_type": "stream",
     "text": [
      "✅ Saved 65 samples to /mnt/c/Users/Legion/Documents/jimmy tran/Automated-invoice-processing-system/Donuts/data_mhuy/mhuy_donut.jsonl\n"
     ]
    }
   ],
   "source": [
    "# File gốc là annotated JSONL như bạn gửi ở trên\n",
    "input_path = \"/mnt/c/Users/Legion/Documents/jimmy tran/Automated-invoice-processing-system/Donuts/data_mhuy/mhuy_labelled.jsonl\"     # sửa nếu khác\n",
    "output_path = \"/mnt/c/Users/Legion/Documents/jimmy tran/Automated-invoice-processing-system/Donuts/data_mhuy/mhuy_donut.jsonl\"  # sửa nếu khác\n",
    "\n",
    "convert_to_donut_jsonl(input_path, output_path)\n"
   ]
  }
 ],
 "metadata": {
  "kernelspec": {
   "display_name": "erp",
   "language": "python",
   "name": "python3"
  },
  "language_info": {
   "codemirror_mode": {
    "name": "ipython",
    "version": 3
   },
   "file_extension": ".py",
   "mimetype": "text/x-python",
   "name": "python",
   "nbconvert_exporter": "python",
   "pygments_lexer": "ipython3",
   "version": "3.12.9"
  }
 },
 "nbformat": 4,
 "nbformat_minor": 5
}
