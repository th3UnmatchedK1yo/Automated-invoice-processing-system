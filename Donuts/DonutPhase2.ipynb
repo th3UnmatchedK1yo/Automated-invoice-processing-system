{
 "cells": [
  {
   "cell_type": "markdown",
   "id": "6f3c7ed7",
   "metadata": {},
   "source": [
    "# 6 · Re-loading the model in a new session 🔵\n"
   ]
  },
  {
   "cell_type": "code",
   "execution_count": null,
   "id": "3a78d7d5",
   "metadata": {},
   "outputs": [],
   "source": [
    "from transformers import DonutProcessor, VisionEncoderDecoderModel\n",
    "import torch, cv2, json\n",
    "\n",
    "processor = DonutProcessor.from_pretrained(\"naver-clova-ix/donut-base\")\n",
    "model     = VisionEncoderDecoderModel.from_pretrained(\n",
    "              \"./donut_phase1_step3/checkpoint_final\").to(\n",
    "              torch.device(\"cuda\" if torch.cuda.is_available() else \"cpu\"))\n"
   ]
  }
 ],
 "metadata": {
  "language_info": {
   "name": "python"
  }
 },
 "nbformat": 4,
 "nbformat_minor": 5
}
